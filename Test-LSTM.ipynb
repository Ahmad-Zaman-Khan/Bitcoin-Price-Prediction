{
 "cells": [
  {
   "cell_type": "code",
   "execution_count": 1,
   "id": "f8cfea66",
   "metadata": {},
   "outputs": [
    {
     "ename": "ModuleNotFoundError",
     "evalue": "No module named 'tensorflow'",
     "output_type": "error",
     "traceback": [
      "\u001b[1;31m---------------------------------------------------------------------------\u001b[0m",
      "\u001b[1;31mModuleNotFoundError\u001b[0m                       Traceback (most recent call last)",
      "Cell \u001b[1;32mIn[1], line 3\u001b[0m\n\u001b[0;32m      1\u001b[0m \u001b[38;5;28;01mimport\u001b[39;00m \u001b[38;5;21;01mwarnings\u001b[39;00m\n\u001b[0;32m      2\u001b[0m warnings\u001b[38;5;241m.\u001b[39mfilterwarnings(\u001b[38;5;124m'\u001b[39m\u001b[38;5;124mignore\u001b[39m\u001b[38;5;124m'\u001b[39m)\n\u001b[1;32m----> 3\u001b[0m \u001b[38;5;28;01mimport\u001b[39;00m \u001b[38;5;21;01mtensorflow\u001b[39;00m \u001b[38;5;28;01mas\u001b[39;00m \u001b[38;5;21;01mtf\u001b[39;00m\n\u001b[0;32m      4\u001b[0m \u001b[38;5;28;01mimport\u001b[39;00m \u001b[38;5;21;01mos\u001b[39;00m\n\u001b[0;32m      5\u001b[0m \u001b[38;5;28;01mimport\u001b[39;00m \u001b[38;5;21;01mpandas\u001b[39;00m \u001b[38;5;28;01mas\u001b[39;00m \u001b[38;5;21;01mpd\u001b[39;00m\n",
      "\u001b[1;31mModuleNotFoundError\u001b[0m: No module named 'tensorflow'"
     ]
    }
   ],
   "source": [
    "import warnings\n",
    "warnings.filterwarnings('ignore')\n",
    "import tensorflow as tf\n",
    "import os\n",
    "import pandas as pd\n",
    "import numpy as np\n",
    "import math\n",
    "tf.random.set_seed(7)\n",
    "# np.random.seed(7)\n",
    "import datetime as dt\n",
    "from tensorflow.keras.callbacks import EarlyStopping\n",
    "import matplotlib.pyplot as plt\n",
    "from datetime import date\n",
    "from sklearn.metrics import mean_squared_error, mean_absolute_error, explained_variance_score, r2_score \n",
    "from sklearn.metrics import mean_poisson_deviance, mean_gamma_deviance, accuracy_score\n",
    "from sklearn.preprocessing import MinMaxScaler,StandardScaler\n",
    "from sklearn.metrics import mean_absolute_error as mae\n",
    "pd.options.mode.chained_assignment = None\n",
    "from tensorflow.keras.models import Sequential\n",
    "from tensorflow.keras.layers import Dense, Dropout\n",
    "# tf.random.set_seed(1234)\n",
    "from tensorflow.keras.layers import LSTM"
   ]
  },
  {
   "cell_type": "code",
   "execution_count": 2,
   "id": "ac1be31e-83cb-4a8a-8ecc-70442a7d6fa5",
   "metadata": {},
   "outputs": [],
   "source": [
    "!pip freeze > requirements.txt"
   ]
  },
  {
   "cell_type": "code",
   "execution_count": null,
   "id": "68909f1e",
   "metadata": {},
   "outputs": [],
   "source": [
    "print(\"Hey there\")"
   ]
  },
  {
   "cell_type": "code",
   "execution_count": null,
   "id": "7579bfca",
   "metadata": {},
   "outputs": [],
   "source": [
    "btc_input_df = pd.read_csv(\"FBTC-USD-mar-2017-to-06-feb-2023.csv\")\n",
    "# n_data= pd.read_csv(\"n-transactions-total.csv\")\n",
    "# n_data\n",
    "btc_input_df.info()"
   ]
  },
  {
   "cell_type": "code",
   "execution_count": null,
   "id": "1fb336d0",
   "metadata": {},
   "outputs": [],
   "source": [
    "# data=btc_input_df"
   ]
  },
  {
   "cell_type": "code",
   "execution_count": null,
   "id": "c994da6e",
   "metadata": {},
   "outputs": [],
   "source": [
    "# btc_input_df_datetype=btc_input_df.astype({'Date': 'datetime64'})\n",
    "# data =df.astype({'Date': 'datetime64'})\n",
    "dataa=btc_input_df.astype({'Date': 'datetime64'})\n",
    "new_data = dataa[-60:]\n",
    "\n",
    "new_data = new_data[['Close', 'High', 'Low', 'Open','Volume','n-transactions','MKTCP', 'HRATE','DIFF']]\n",
    "\n",
    "test1=60\n",
    "data=dataa[:-test1]\n",
    "\n",
    "data.tail()\n"
   ]
  },
  {
   "cell_type": "code",
   "execution_count": null,
   "id": "56602cab",
   "metadata": {},
   "outputs": [],
   "source": [
    "# btc_input_df_datetype.shape\n",
    "closing_price = data['Close']\n",
    "fig, ax = plt.subplots(1, figsize=(13, 7))\n",
    "ax.plot(closing_price, label=' Price USD', linewidth=2)\n",
    "# ax.plot(df_test, label='Test', linewidth=2)\n",
    "ax.set_ylabel('Price USD', fontsize=10)\n",
    "ax.set_title('', fontsize=12)\n",
    "ax.legend(loc='best', fontsize=12)"
   ]
  },
  {
   "cell_type": "code",
   "execution_count": null,
   "id": "6d13ce1b",
   "metadata": {},
   "outputs": [],
   "source": [
    "n_forecast = 1\n",
    "# data=dataa['Close'].values.reshape(-1,1)\n",
    "# data = data[['Close','Volume','n-transactions','MKTCP', 'HRATE','DIFF','AVBLS']]\n",
    "data = data[['Close', 'High', 'Low', 'Open','Volume','n-transactions','MKTCP', 'HRATE','DIFF']]\n",
    "# data = data[['Close', 'High', 'Low', 'Open','Volume','n-transactions','MKTCP', 'HRATE']]\n",
    "X_scaler = MinMaxScaler()\n",
    "Y_scaler = MinMaxScaler()\n",
    "\n",
    "\n",
    "\n",
    "X_train = data[:len(data)-90]\n",
    "X_test = data[len(data)-90:]\n",
    "\n",
    "train_data = X_scaler.fit_transform(X_train)\n",
    "\n",
    "\n",
    "test_data = X_scaler.transform(X_test)\n",
    "\n",
    "scaler_pred = MinMaxScaler()\n",
    "df_Close = pd.DataFrame(data['Close'])\n",
    "np_Close_scaled = scaler_pred.fit_transform(df_Close)\n",
    "\n"
   ]
  },
  {
   "cell_type": "code",
   "execution_count": null,
   "id": "168e9a76",
   "metadata": {},
   "outputs": [],
   "source": [
    "def dataset_generator_lstm(dataset, look_back=30):\n",
    "    \n",
    "    x_test, y_test = [], []\n",
    "\n",
    "    for i in range(look_back, len(dataset)- n_forecast+1):\n",
    "        \n",
    "        x_test.append(dataset[i -look_back: i,0:dataset.shape[1]])\n",
    "        y_test.append(dataset[i:i+n_forecast,0])\n",
    "           \n",
    "    return np.array(x_test), np.array(y_test)\n",
    "# x_test = np.array(x_test)\n",
    "# y_test = np.array(y_test)\n",
    "trainX, trainY = dataset_generator_lstm(train_data)\n",
    "\n",
    "testX, testY = dataset_generator_lstm(test_data)\n",
    "\n",
    "print(\"trainX: \", trainX.shape)\n",
    "print(\"trainY: \", trainY.shape)\n",
    "print(\"testX: \", testX.shape)\n",
    "print(\"testY\", testY.shape)\n",
    "\n",
    "# print(testY)\n",
    "# x_test.shape\n"
   ]
  },
  {
   "cell_type": "code",
   "execution_count": null,
   "id": "775e4b52",
   "metadata": {},
   "outputs": [],
   "source": []
  },
  {
   "cell_type": "code",
   "execution_count": null,
   "id": "03844074",
   "metadata": {},
   "outputs": [],
   "source": [
    "# trainX = np.reshape(trainX, (trainX.shape[0], trai/\n",
    "\n",
    "print(\"Shape of trainX: \", trainX.shape)\n",
    "# print(\"Shape of testX: \", testX.shape)\n",
    "# testX.shape[1]"
   ]
  },
  {
   "cell_type": "code",
   "execution_count": null,
   "id": "fcbad30f",
   "metadata": {},
   "outputs": [],
   "source": [
    "# xn\n",
    "model = Sequential()\n",
    "model.add(LSTM(units=50,return_sequences=True,input_shape=trainX.shape[1:]))\n",
    "# model.add(LSTM(units=50,return_sequences=True,input_shape = input_shape=trainX.shape[1:]))\n",
    "model.add(LSTM(units=50))\n",
    "model.add(Dense(units=n_forecast))\n",
    "\n",
    "model.compile(loss='mean_squared_error', optimizer='adam')\n",
    "\n",
    "# scores = model.evaluate(testX, testY, verbose=0)\n",
    "# # print(\"%s: %.2f%%\" % (model.metrics_names[1], scores[1]*100))\n",
    "# cvscores.append(scores[1] * 100)\n",
    " \n",
    "# print(\"%.2f%% (+/- %.2f%%)\" % (np.mean(cvscores), np.std(cvscores)))"
   ]
  },
  {
   "cell_type": "code",
   "execution_count": null,
   "id": "2395109d",
   "metadata": {},
   "outputs": [],
   "source": [
    "epochs = 50\n",
    "batch_size = 32\n",
    "early_stop = EarlyStopping(monitor='loss', patience=5, verbose=1)\n",
    "\n",
    "history = model.fit(trainX, trainY, \n",
    "                    batch_size=batch_size, \n",
    "                    epochs=epochs,\n",
    "                    validation_data=(testX, testY)\n",
    "                   )\n",
    "# score=model.evaluate(testX,testY,verbose =0)\n",
    "# print(score[0])\n",
    "# print(score[1])\n",
    "# plt.plot(history.history['accuracy'])\n",
    "# plt.plot(history.history['val_acc'])\n",
    "# plt.title('model accuracy')\n",
    "# plt.ylabel('accuracy')\n",
    "# plt.xlabel('epoch')\n",
    "# plt.legend(['train', 'val'], loc='upper left')\n",
    "# plt.show()"
   ]
  },
  {
   "cell_type": "code",
   "execution_count": null,
   "id": "ff0e65ca",
   "metadata": {},
   "outputs": [],
   "source": [
    "from sklearn.metrics import mean_absolute_percentage_error\n",
    "\n",
    "yhat = model.predict(testX)\n",
    "# print(yhat)\n",
    "y_pred = scaler_pred.inverse_transform(yhat)\n",
    "# print(y_pred)\n",
    "# print(testY)\n",
    "y_test_unscaled = scaler_pred.inverse_transform(testY.reshape(-1, 1))\n",
    "# print(y_test_unscaled)\n",
    "\n",
    "\n",
    "plt.figure(figsize=(16,7))\n",
    "\n",
    "plt.plot(y_pred, 'r', marker='.', label='Predicted Test')\n",
    "\n",
    "plt.plot(y_test_unscaled, marker='.', label='Actual Test')\n",
    "\n",
    "plt.legend()\n",
    "plt.show()\n",
    "\n",
    "\n",
    "MAE = mean_absolute_error(y_test_unscaled, y_pred)\n",
    "print(f'Mean Absolute Error (MAE): {np.round(MAE, 2)}')\n",
    "\n",
    "MAPE = np.mean((np.abs(np.subtract(y_test_unscaled, y_pred)/ y_test_unscaled))) * 100\n",
    "\n",
    "print(f'Mean Absolute Percentage Error (MAPE): {np.round(MAPE, 2)} %')\n",
    "\n",
    "rmse = np.sqrt(mean_squared_error(y_test_unscaled, y_pred))\n",
    "print('Test RMSE: %.3f' % rmse)\n",
    "# print(mean_absolute_percentage_error(y_test_unscaled, y_pred))"
   ]
  },
  {
   "cell_type": "code",
   "execution_count": null,
   "id": "e0b0e0ee",
   "metadata": {},
   "outputs": [],
   "source": [
    "df_temp = data[-30:]\n",
    "\n",
    "last_N_days = df_temp[-30:].values\n",
    "\n",
    "Actual_price = 17233.474\n",
    "last_day_price= 16848.126\n",
    "# print(last_N_days)\n",
    "\n",
    "last_N_days_scaled = X_scaler.transform(last_N_days)\n",
    "\n",
    "X_test_new = []\n",
    "X_test_new.append(last_N_days_scaled)\n",
    "\n",
    "# Convert the X_test data set to a numpy array and reshape the data\n",
    "pred_price_scaled = model.predict(np.array(X_test_new))\n",
    "pred_price_unscaled = scaler_pred.inverse_transform(pred_price_scaled.reshape(-1, 1))\n",
    "\n",
    "print(\"The last day price was :\",last_day_price)\n",
    "print(' ')\n",
    "print(\"The predicted price for the next day is:\",pred_price_unscaled)\n",
    "print(\"The actual price is:\",Actual_price)\n",
    "\n",
    "\n",
    "# rmse = np.sqrt(mean_squared_error(Actual_price, pred_price_unscaled))\n",
    "# print('Test RMSE: %.3f' % rmse)\n"
   ]
  },
  {
   "cell_type": "code",
   "execution_count": null,
   "id": "97b0fcef",
   "metadata": {},
   "outputs": [],
   "source": [
    "# last_New_data = new_data[-30:].values\n",
    "# # Actual_price = 22901.96\n",
    "# # print(last_N_da)\n",
    "\n",
    "# last_New_data_scaled = X_scaler.transform(last_New_data)\n",
    "\n",
    "# # Create an empty list and Append past N days\n",
    "# Xtest_N = []\n",
    "# Xtest_N.append(last_New_data_scaled)\n",
    "\n",
    "# # Convert the X_test data set to a numpy array and reshape the data\n",
    "# pred_scaled = model.predict(np.array(Xtest_N))\n",
    "# pred_unscaled = scaler_pred.inverse_transform(pred_scaled.reshape(-1, 1))\n",
    "# print(' ')\n",
    "# print(\"predicted price for the next day is :\", pred_unscaled)"
   ]
  },
  {
   "cell_type": "code",
   "execution_count": null,
   "id": "fe7c625c",
   "metadata": {},
   "outputs": [],
   "source": [
    "# [[16899.016]]\n",
    "# df_temp1 = dataa[-60:-30]\n",
    "\n",
    "# df_temp1= df_temp1[['Close', 'High', 'Low', 'Open','Volume','n-transactions','MKTCP', 'HRATE','DIFF']]\n",
    "# last_N_day = df_temp1[-30:].values\n",
    "# # Actual_price = 22901.96\n",
    "# # print(last_N_day)\n",
    "\n",
    "# last_N_days_scale = X_scaler.transform(last_N_day)\n",
    "\n",
    "# # Create an empty list and Append past N days\n",
    "# Xtest_new = []\n",
    "# Xtest_new.append(last_N_days_scale)\n",
    "\n",
    "# # Convert the X_test data set to a numpy array and reshape the data\n",
    "# pred_price_scale = model.predict(np.array(Xtest_new))\n",
    "# pred_price_unscale = scaler_pred.inverse_transform(pred_price_scale.reshape(-1, 1))\n",
    "# print(pred_price_unscale)"
   ]
  },
  {
   "cell_type": "markdown",
   "id": "5b5d3613",
   "metadata": {},
   "source": []
  }
 ],
 "metadata": {
  "kernelspec": {
   "display_name": "Python 3 (ipykernel)",
   "language": "python",
   "name": "python3"
  },
  "language_info": {
   "codemirror_mode": {
    "name": "ipython",
    "version": 3
   },
   "file_extension": ".py",
   "mimetype": "text/x-python",
   "name": "python",
   "nbconvert_exporter": "python",
   "pygments_lexer": "ipython3",
   "version": "3.11.4"
  }
 },
 "nbformat": 4,
 "nbformat_minor": 5
}
