{
 "cells": [
  {
   "cell_type": "code",
   "execution_count": 1,
   "id": "f8cfea66",
   "metadata": {},
   "outputs": [],
   "source": [
    "import warnings\n",
    "warnings.filterwarnings('ignore')\n",
    "import tensorflow as tf\n",
    "import os\n",
    "import pandas as pd\n",
    "import numpy as np\n",
    "import math\n",
    "tf.random.set_seed(7)\n",
    "# np.random.seed(7)\n",
    "import datetime as dt\n",
    "from tensorflow.keras.callbacks import EarlyStopping\n",
    "import matplotlib.pyplot as plt\n",
    "from datetime import date\n",
    "from sklearn.metrics import mean_squared_error, mean_absolute_error, explained_variance_score, r2_score \n",
    "from sklearn.metrics import mean_poisson_deviance, mean_gamma_deviance, accuracy_score\n",
    "from sklearn.preprocessing import MinMaxScaler,StandardScaler\n",
    "from sklearn.metrics import mean_absolute_error as mae\n",
    "pd.options.mode.chained_assignment = None\n",
    "from tensorflow.keras.models import Sequential\n",
    "from tensorflow.keras.layers import Dense, Dropout\n",
    "# tf.random.set_seed(1234)\n",
    "from tensorflow.keras.layers import LSTM"
   ]
  },
  {
   "cell_type": "code",
   "execution_count": 2,
   "id": "68909f1e",
   "metadata": {},
   "outputs": [
    {
     "name": "stdout",
     "output_type": "stream",
     "text": [
      "Hey there\n"
     ]
    }
   ],
   "source": [
    "print(\"Hey there\")"
   ]
  },
  {
   "cell_type": "code",
   "execution_count": 3,
   "id": "7579bfca",
   "metadata": {},
   "outputs": [
    {
     "name": "stdout",
     "output_type": "stream",
     "text": [
      "<class 'pandas.core.frame.DataFrame'>\n",
      "RangeIndex: 2168 entries, 0 to 2167\n",
      "Data columns (total 11 columns):\n",
      " #   Column          Non-Null Count  Dtype  \n",
      "---  ------          --------------  -----  \n",
      " 0   Date            2168 non-null   object \n",
      " 1   Close           2168 non-null   float64\n",
      " 2   High            2168 non-null   float64\n",
      " 3   Low             2168 non-null   float64\n",
      " 4   Open            2168 non-null   float64\n",
      " 5   Volume          2168 non-null   float64\n",
      " 6   n-transactions  2168 non-null   int64  \n",
      " 7   MKTCP           2168 non-null   float64\n",
      " 8   HRATE           2168 non-null   float64\n",
      " 9   DIFF            2168 non-null   float64\n",
      " 10  AVBLS           2168 non-null   float64\n",
      "dtypes: float64(9), int64(1), object(1)\n",
      "memory usage: 186.4+ KB\n"
     ]
    }
   ],
   "source": [
    "btc_input_df = pd.read_csv(\"FBTC-USD-mar-2017-to-06-feb-2023.csv\")\n",
    "# n_data= pd.read_csv(\"n-transactions-total.csv\")\n",
    "# n_data\n",
    "btc_input_df.info()"
   ]
  },
  {
   "cell_type": "code",
   "execution_count": 4,
   "id": "1fb336d0",
   "metadata": {},
   "outputs": [],
   "source": [
    "# data=btc_input_df"
   ]
  },
  {
   "cell_type": "code",
   "execution_count": 5,
   "id": "c994da6e",
   "metadata": {},
   "outputs": [
    {
     "data": {
      "text/html": [
       "<div>\n",
       "<style scoped>\n",
       "    .dataframe tbody tr th:only-of-type {\n",
       "        vertical-align: middle;\n",
       "    }\n",
       "\n",
       "    .dataframe tbody tr th {\n",
       "        vertical-align: top;\n",
       "    }\n",
       "\n",
       "    .dataframe thead th {\n",
       "        text-align: right;\n",
       "    }\n",
       "</style>\n",
       "<table border=\"1\" class=\"dataframe\">\n",
       "  <thead>\n",
       "    <tr style=\"text-align: right;\">\n",
       "      <th></th>\n",
       "      <th>Date</th>\n",
       "      <th>Close</th>\n",
       "      <th>High</th>\n",
       "      <th>Low</th>\n",
       "      <th>Open</th>\n",
       "      <th>Volume</th>\n",
       "      <th>n-transactions</th>\n",
       "      <th>MKTCP</th>\n",
       "      <th>HRATE</th>\n",
       "      <th>DIFF</th>\n",
       "      <th>AVBLS</th>\n",
       "    </tr>\n",
       "  </thead>\n",
       "  <tbody>\n",
       "    <tr>\n",
       "      <th>2103</th>\n",
       "      <td>2022-12-03</td>\n",
       "      <td>16908.23633</td>\n",
       "      <td>17116.04102</td>\n",
       "      <td>16888.14063</td>\n",
       "      <td>17090.09766</td>\n",
       "      <td>1.621778e+10</td>\n",
       "      <td>250951</td>\n",
       "      <td>3.260000e+11</td>\n",
       "      <td>240623292.0</td>\n",
       "      <td>3.700000e+13</td>\n",
       "      <td>1.318575</td>\n",
       "    </tr>\n",
       "    <tr>\n",
       "      <th>2104</th>\n",
       "      <td>2022-12-04</td>\n",
       "      <td>17130.48633</td>\n",
       "      <td>17157.76758</td>\n",
       "      <td>16903.43945</td>\n",
       "      <td>16908.16992</td>\n",
       "      <td>1.682452e+10</td>\n",
       "      <td>219810</td>\n",
       "      <td>3.290000e+11</td>\n",
       "      <td>257154663.2</td>\n",
       "      <td>3.700000e+13</td>\n",
       "      <td>1.086378</td>\n",
       "    </tr>\n",
       "    <tr>\n",
       "      <th>2105</th>\n",
       "      <td>2022-12-05</td>\n",
       "      <td>16974.82617</td>\n",
       "      <td>17378.15234</td>\n",
       "      <td>16922.43164</td>\n",
       "      <td>17128.89453</td>\n",
       "      <td>2.220909e+10</td>\n",
       "      <td>274064</td>\n",
       "      <td>3.260000e+11</td>\n",
       "      <td>268175577.4</td>\n",
       "      <td>3.700000e+13</td>\n",
       "      <td>1.246358</td>\n",
       "    </tr>\n",
       "    <tr>\n",
       "      <th>2106</th>\n",
       "      <td>2022-12-06</td>\n",
       "      <td>17089.50391</td>\n",
       "      <td>17091.86328</td>\n",
       "      <td>16939.92188</td>\n",
       "      <td>16975.23828</td>\n",
       "      <td>1.988992e+10</td>\n",
       "      <td>262438</td>\n",
       "      <td>3.270000e+11</td>\n",
       "      <td>231289584.0</td>\n",
       "      <td>3.450000e+13</td>\n",
       "      <td>1.328944</td>\n",
       "    </tr>\n",
       "    <tr>\n",
       "      <th>2107</th>\n",
       "      <td>2022-12-07</td>\n",
       "      <td>16848.12695</td>\n",
       "      <td>17109.37695</td>\n",
       "      <td>16750.55859</td>\n",
       "      <td>17089.50586</td>\n",
       "      <td>1.967540e+10</td>\n",
       "      <td>272328</td>\n",
       "      <td>3.240000e+11</td>\n",
       "      <td>292794732.7</td>\n",
       "      <td>3.420000e+13</td>\n",
       "      <td>1.029506</td>\n",
       "    </tr>\n",
       "  </tbody>\n",
       "</table>\n",
       "</div>"
      ],
      "text/plain": [
       "           Date        Close         High          Low         Open  \\\n",
       "2103 2022-12-03  16908.23633  17116.04102  16888.14063  17090.09766   \n",
       "2104 2022-12-04  17130.48633  17157.76758  16903.43945  16908.16992   \n",
       "2105 2022-12-05  16974.82617  17378.15234  16922.43164  17128.89453   \n",
       "2106 2022-12-06  17089.50391  17091.86328  16939.92188  16975.23828   \n",
       "2107 2022-12-07  16848.12695  17109.37695  16750.55859  17089.50586   \n",
       "\n",
       "            Volume  n-transactions         MKTCP        HRATE          DIFF  \\\n",
       "2103  1.621778e+10          250951  3.260000e+11  240623292.0  3.700000e+13   \n",
       "2104  1.682452e+10          219810  3.290000e+11  257154663.2  3.700000e+13   \n",
       "2105  2.220909e+10          274064  3.260000e+11  268175577.4  3.700000e+13   \n",
       "2106  1.988992e+10          262438  3.270000e+11  231289584.0  3.450000e+13   \n",
       "2107  1.967540e+10          272328  3.240000e+11  292794732.7  3.420000e+13   \n",
       "\n",
       "         AVBLS  \n",
       "2103  1.318575  \n",
       "2104  1.086378  \n",
       "2105  1.246358  \n",
       "2106  1.328944  \n",
       "2107  1.029506  "
      ]
     },
     "execution_count": 5,
     "metadata": {},
     "output_type": "execute_result"
    }
   ],
   "source": [
    "# btc_input_df_datetype=btc_input_df.astype({'Date': 'datetime64'})\n",
    "# data =df.astype({'Date': 'datetime64'})\n",
    "dataa=btc_input_df.astype({'Date': 'datetime64'})\n",
    "new_data = dataa[-60:]\n",
    "\n",
    "new_data = new_data[['Close', 'High', 'Low', 'Open','Volume','n-transactions','MKTCP', 'HRATE','DIFF']]\n",
    "\n",
    "test1=60\n",
    "data=dataa[:-test1]\n",
    "\n",
    "data.tail()\n"
   ]
  },
  {
   "cell_type": "code",
   "execution_count": 6,
   "id": "56602cab",
   "metadata": {},
   "outputs": [
    {
     "data": {
      "text/plain": [
       "<matplotlib.legend.Legend at 0x1ddbd6d3970>"
      ]
     },
     "execution_count": 6,
     "metadata": {},
     "output_type": "execute_result"
    },
    {
     "data": {
      "image/png": "[encoded data removed]",
      "text/plain": [
       "<Figure size 936x504 with 1 Axes>"
      ]
     },
     "metadata": {
      "needs_background": "light"
     },
     "output_type": "display_data"
    }
   ],
   "source": [
    "# btc_input_df_datetype.shape\n",
    "closing_price = data['Close']\n",
    "fig, ax = plt.subplots(1, figsize=(13, 7))\n",
    "ax.plot(closing_price, label=' Price USD', linewidth=2)\n",
    "# ax.plot(df_test, label='Test', linewidth=2)\n",
    "ax.set_ylabel('Price USD', fontsize=10)\n",
    "ax.set_title('', fontsize=12)\n",
    "ax.legend(loc='best', fontsize=12)"
   ]
  },
  {
   "cell_type": "code",
   "execution_count": 7,
   "id": "6d13ce1b",
   "metadata": {},
   "outputs": [],
   "source": [
    "n_forecast = 1\n",
    "# data=dataa['Close'].values.reshape(-1,1)\n",
    "# data = data[['Close','Volume','n-transactions','MKTCP', 'HRATE','DIFF','AVBLS']]\n",
    "data = data[['Close', 'High', 'Low', 'Open','Volume','n-transactions','MKTCP', 'HRATE','DIFF']]\n",
    "# data = data[['Close', 'High', 'Low', 'Open','Volume','n-transactions','MKTCP', 'HRATE']]\n",
    "X_scaler = MinMaxScaler()\n",
    "Y_scaler = MinMaxScaler()\n",
    "\n",
    "# X_train = X_scaler.fit_transform(data)\n",
    "\n",
    "# train_data = X_train[:len(X_train)-31]\n",
    "# test_data = X_train[len(X_train)-31:]\n",
    "# test_data = X_scaler.transform(X_test)\n",
    "\n",
    "X_train = data[:len(data)-90]\n",
    "X_test = data[len(data)-90:]\n",
    "\n",
    "train_data = X_scaler.fit_transform(X_train)\n",
    "\n",
    "\n",
    "test_data = X_scaler.transform(X_test)\n",
    "\n",
    "scaler_pred = MinMaxScaler()\n",
    "df_Close = pd.DataFrame(data['Close'])\n",
    "np_Close_scaled = scaler_pred.fit_transform(df_Close)\n",
    "# print(test_data)\n",
    "# test_data = test_data1[:-32]\n",
    "# X_data = X_scaler.transform(data[['Close']])\n",
    "\n",
    "# scaler = MinMaxScaler(feature_range=(0, 1))\n",
    "\n",
    "# df_test.shape\n",
    "# print(test_data)"
   ]
  },
  {
   "cell_type": "code",
   "execution_count": null,
   "id": "41d6deab",
   "metadata": {},
   "outputs": [],
   "source": []
  },
  {
   "cell_type": "code",
   "execution_count": 8,
   "id": "168e9a76",
   "metadata": {},
   "outputs": [
    {
     "name": "stdout",
     "output_type": "stream",
     "text": [
      "trainX:  (1988, 30, 9)\n",
      "trainY:  (1988, 1)\n",
      "testX:  (60, 30, 9)\n",
      "testY (60, 1)\n"
     ]
    }
   ],
   "source": [
    "def dataset_generator_lstm(dataset, look_back=30):\n",
    "    \n",
    "    x_test, y_test = [], []\n",
    "\n",
    "    for i in range(look_back, len(dataset)- n_forecast+1):\n",
    "        \n",
    "        x_test.append(dataset[i -look_back: i,0:dataset.shape[1]])\n",
    "        y_test.append(dataset[i:i+n_forecast,0])\n",
    "           \n",
    "    return np.array(x_test), np.array(y_test)\n",
    "# x_test = np.array(x_test)\n",
    "# y_test = np.array(y_test)\n",
    "trainX, trainY = dataset_generator_lstm(train_data)\n",
    "\n",
    "testX, testY = dataset_generator_lstm(test_data)\n",
    "\n",
    "print(\"trainX: \", trainX.shape)\n",
    "print(\"trainY: \", trainY.shape)\n",
    "print(\"testX: \", testX.shape)\n",
    "print(\"testY\", testY.shape)\n",
    "\n",
    "# print(testY)\n",
    "# x_test.shape\n"
   ]
  },
  {
   "cell_type": "code",
   "execution_count": null,
   "id": "775e4b52",
   "metadata": {},
   "outputs": [],
   "source": []
  },
  {
   "cell_type": "code",
   "execution_count": 9,
   "id": "03844074",
   "metadata": {},
   "outputs": [
    {
     "name": "stdout",
     "output_type": "stream",
     "text": [
      "Shape of trainX:  (1988, 30, 9)\n"
     ]
    }
   ],
   "source": [
    "# trainX = np.reshape(trainX, (trainX.shape[0], trai/\n",
    "\n",
    "print(\"Shape of trainX: \", trainX.shape)\n",
    "# print(\"Shape of testX: \", testX.shape)\n",
    "# testX.shape[1]"
   ]
  },
  {
   "cell_type": "code",
   "execution_count": 10,
   "id": "fcbad30f",
   "metadata": {},
   "outputs": [],
   "source": [
    "# xn\n",
    "model = Sequential()\n",
    "model.add(LSTM(units=50,return_sequences=True,input_shape=trainX.shape[1:]))\n",
    "# model.add(LSTM(units=50,return_sequences=True,input_shape = input_shape=trainX.shape[1:]))\n",
    "model.add(LSTM(units=50))\n",
    "model.add(Dense(units=n_forecast))\n",
    "\n",
    "model.compile(loss='mean_squared_error', optimizer='adam')\n",
    "\n",
    "# scores = model.evaluate(testX, testY, verbose=0)\n",
    "# # print(\"%s: %.2f%%\" % (model.metrics_names[1], scores[1]*100))\n",
    "# cvscores.append(scores[1] * 100)\n",
    " \n",
    "# print(\"%.2f%% (+/- %.2f%%)\" % (np.mean(cvscores), np.std(cvscores)))"
   ]
  },
  {
   "cell_type": "code",
   "execution_count": 11,
   "id": "2395109d",
   "metadata": {},
   "outputs": [
    {
     "name": "stdout",
     "output_type": "stream",
     "text": [
      "Epoch 1/50\n",
      "63/63 [==============================] - 9s 53ms/step - loss: 0.0143 - val_loss: 0.0018\n",
      "Epoch 2/50\n",
      "63/63 [==============================] - 2s 31ms/step - loss: 0.0013 - val_loss: 0.0010\n",
      "Epoch 3/50\n",
      "63/63 [==============================] - 2s 30ms/step - loss: 0.0012 - val_loss: 6.5581e-04\n",
      "Epoch 4/50\n",
      "63/63 [==============================] - 2s 30ms/step - loss: 0.0011 - val_loss: 8.8617e-04\n",
      "Epoch 5/50\n",
      "63/63 [==============================] - 2s 30ms/step - loss: 9.8812e-04 - val_loss: 3.7564e-04\n",
      "Epoch 6/50\n",
      "63/63 [==============================] - 2s 30ms/step - loss: 8.9177e-04 - val_loss: 3.2321e-04\n",
      "Epoch 7/50\n",
      "63/63 [==============================] - 2s 33ms/step - loss: 8.2507e-04 - val_loss: 9.3260e-04\n",
      "Epoch 8/50\n",
      "63/63 [==============================] - 2s 30ms/step - loss: 7.2562e-04 - val_loss: 3.0447e-04\n",
      "Epoch 9/50\n",
      "63/63 [==============================] - 2s 30ms/step - loss: 7.6144e-04 - val_loss: 4.7587e-04\n",
      "Epoch 10/50\n",
      "63/63 [==============================] - 2s 30ms/step - loss: 6.4930e-04 - val_loss: 2.4420e-04\n",
      "Epoch 11/50\n",
      "63/63 [==============================] - 2s 30ms/step - loss: 7.5886e-04 - val_loss: 2.3103e-04\n",
      "Epoch 12/50\n",
      "63/63 [==============================] - 2s 30ms/step - loss: 6.5867e-04 - val_loss: 2.1135e-04\n",
      "Epoch 13/50\n",
      "63/63 [==============================] - 2s 30ms/step - loss: 6.0738e-04 - val_loss: 6.1161e-04\n",
      "Epoch 14/50\n",
      "63/63 [==============================] - 2s 30ms/step - loss: 5.5333e-04 - val_loss: 2.2216e-04\n",
      "Epoch 15/50\n",
      "63/63 [==============================] - 2s 31ms/step - loss: 5.3582e-04 - val_loss: 5.9090e-04\n",
      "Epoch 16/50\n",
      "63/63 [==============================] - 2s 30ms/step - loss: 5.1273e-04 - val_loss: 6.1926e-04\n",
      "Epoch 17/50\n",
      "63/63 [==============================] - 2s 30ms/step - loss: 4.8008e-04 - val_loss: 1.9180e-04\n",
      "Epoch 18/50\n",
      "63/63 [==============================] - 2s 31ms/step - loss: 5.0749e-04 - val_loss: 5.2001e-04\n",
      "Epoch 19/50\n",
      "63/63 [==============================] - 2s 31ms/step - loss: 4.5635e-04 - val_loss: 5.2779e-04\n",
      "Epoch 20/50\n",
      "63/63 [==============================] - 2s 30ms/step - loss: 4.3209e-04 - val_loss: 3.2551e-04\n",
      "Epoch 21/50\n",
      "63/63 [==============================] - 2s 31ms/step - loss: 5.4342e-04 - val_loss: 1.7065e-04\n",
      "Epoch 22/50\n",
      "63/63 [==============================] - 2s 31ms/step - loss: 4.4261e-04 - val_loss: 1.7327e-04\n",
      "Epoch 23/50\n",
      "63/63 [==============================] - 2s 31ms/step - loss: 5.3101e-04 - val_loss: 5.1455e-04\n",
      "Epoch 24/50\n",
      "63/63 [==============================] - 2s 31ms/step - loss: 4.5179e-04 - val_loss: 2.2059e-04\n",
      "Epoch 25/50\n",
      "63/63 [==============================] - 2s 31ms/step - loss: 3.8759e-04 - val_loss: 1.5195e-04\n",
      "Epoch 26/50\n",
      "63/63 [==============================] - 2s 30ms/step - loss: 4.9190e-04 - val_loss: 9.1757e-04\n",
      "Epoch 27/50\n",
      "63/63 [==============================] - 2s 30ms/step - loss: 3.9961e-04 - val_loss: 2.1871e-04\n",
      "Epoch 28/50\n",
      "63/63 [==============================] - 2s 30ms/step - loss: 4.0068e-04 - val_loss: 3.0878e-04\n",
      "Epoch 29/50\n",
      "63/63 [==============================] - 2s 31ms/step - loss: 4.5685e-04 - val_loss: 1.8225e-04\n",
      "Epoch 30/50\n",
      "63/63 [==============================] - 2s 31ms/step - loss: 4.3239e-04 - val_loss: 3.6173e-04\n",
      "Epoch 31/50\n",
      "63/63 [==============================] - 2s 31ms/step - loss: 3.6757e-04 - val_loss: 2.3393e-04\n",
      "Epoch 32/50\n",
      "63/63 [==============================] - 2s 31ms/step - loss: 3.3563e-04 - val_loss: 1.3255e-04\n",
      "Epoch 33/50\n",
      "63/63 [==============================] - 2s 31ms/step - loss: 3.9163e-04 - val_loss: 1.3213e-04\n",
      "Epoch 34/50\n",
      "63/63 [==============================] - 2s 31ms/step - loss: 3.5092e-04 - val_loss: 2.2008e-04\n",
      "Epoch 35/50\n",
      "63/63 [==============================] - 2s 30ms/step - loss: 4.0413e-04 - val_loss: 1.3270e-04\n",
      "Epoch 36/50\n",
      "63/63 [==============================] - 2s 31ms/step - loss: 4.0538e-04 - val_loss: 6.5103e-04\n",
      "Epoch 37/50\n",
      "63/63 [==============================] - 2s 32ms/step - loss: 4.0202e-04 - val_loss: 1.9456e-04\n",
      "Epoch 38/50\n",
      "63/63 [==============================] - 2s 31ms/step - loss: 3.4231e-04 - val_loss: 1.2641e-04\n",
      "Epoch 39/50\n",
      "63/63 [==============================] - 2s 31ms/step - loss: 3.5988e-04 - val_loss: 1.7654e-04\n",
      "Epoch 40/50\n",
      "63/63 [==============================] - 2s 30ms/step - loss: 3.1801e-04 - val_loss: 4.7929e-04\n",
      "Epoch 41/50\n",
      "63/63 [==============================] - 2s 30ms/step - loss: 3.2745e-04 - val_loss: 1.1846e-04\n",
      "Epoch 42/50\n",
      "63/63 [==============================] - 2s 31ms/step - loss: 3.0800e-04 - val_loss: 3.7499e-04\n",
      "Epoch 43/50\n",
      "63/63 [==============================] - 2s 31ms/step - loss: 3.2518e-04 - val_loss: 4.4119e-04\n",
      "Epoch 44/50\n",
      "63/63 [==============================] - 2s 31ms/step - loss: 3.2696e-04 - val_loss: 1.4235e-04\n",
      "Epoch 45/50\n",
      "63/63 [==============================] - 2s 31ms/step - loss: 3.2806e-04 - val_loss: 1.4178e-04\n",
      "Epoch 46/50\n",
      "63/63 [==============================] - 2s 31ms/step - loss: 2.9886e-04 - val_loss: 1.3855e-04\n",
      "Epoch 47/50\n",
      "63/63 [==============================] - 2s 31ms/step - loss: 2.8781e-04 - val_loss: 1.0987e-04\n",
      "Epoch 48/50\n",
      "63/63 [==============================] - 2s 31ms/step - loss: 2.8278e-04 - val_loss: 1.2238e-04\n",
      "Epoch 49/50\n",
      "63/63 [==============================] - 5s 83ms/step - loss: 4.1725e-04 - val_loss: 1.2227e-04\n",
      "Epoch 50/50\n",
      "63/63 [==============================] - 2s 31ms/step - loss: 3.0297e-04 - val_loss: 1.1074e-04\n"
     ]
    }
   ],
   "source": [
    "epochs = 50\n",
    "batch_size = 32\n",
    "early_stop = EarlyStopping(monitor='loss', patience=5, verbose=1)\n",
    "\n",
    "history = model.fit(trainX, trainY, \n",
    "                    batch_size=batch_size, \n",
    "                    epochs=epochs,\n",
    "                    validation_data=(testX, testY)\n",
    "                   )\n",
    "# score=model.evaluate(testX,testY,verbose =0)\n",
    "# print(score[0])\n",
    "# print(score[1])\n",
    "# plt.plot(history.history['accuracy'])\n",
    "# plt.plot(history.history['val_acc'])\n",
    "# plt.title('model accuracy')\n",
    "# plt.ylabel('accuracy')\n",
    "# plt.xlabel('epoch')\n",
    "# plt.legend(['train', 'val'], loc='upper left')\n",
    "# plt.show()"
   ]
  },
  {
   "cell_type": "code",
   "execution_count": 12,
   "id": "ff0e65ca",
   "metadata": {},
   "outputs": [
    {
     "name": "stdout",
     "output_type": "stream",
     "text": [
      "2/2 [==============================] - 1s 14ms/step\n"
     ]
    },
    {
     "data": {
      "image/png": "[encoded data removed]",
      "text/plain": [
       "<Figure size 1152x504 with 1 Axes>"
      ]
     },
     "metadata": {
      "needs_background": "light"
     },
     "output_type": "display_data"
    },
    {
     "name": "stdout",
     "output_type": "stream",
     "text": [
      "Mean Absolute Error (MAE): 424.5\n",
      "Mean Absolute Percentage Error (MAPE): 2.34 %\n",
      "Test RMSE: 701.159\n"
     ]
    }
   ],
   "source": [
    "from sklearn.metrics import mean_absolute_percentage_error\n",
    "\n",
    "yhat = model.predict(testX)\n",
    "# print(yhat)\n",
    "y_pred = scaler_pred.inverse_transform(yhat)\n",
    "# print(y_pred)\n",
    "# print(testY)\n",
    "y_test_unscaled = scaler_pred.inverse_transform(testY.reshape(-1, 1))\n",
    "# print(y_test_unscaled)\n",
    "\n",
    "\n",
    "plt.figure(figsize=(16,7))\n",
    "\n",
    "plt.plot(y_pred, 'r', marker='.', label='Predicted Test')\n",
    "\n",
    "plt.plot(y_test_unscaled, marker='.', label='Actual Test')\n",
    "\n",
    "plt.legend()\n",
    "plt.show()\n",
    "\n",
    "\n",
    "MAE = mean_absolute_error(y_test_unscaled, y_pred)\n",
    "print(f'Mean Absolute Error (MAE): {np.round(MAE, 2)}')\n",
    "\n",
    "MAPE = np.mean((np.abs(np.subtract(y_test_unscaled, y_pred)/ y_test_unscaled))) * 100\n",
    "\n",
    "print(f'Mean Absolute Percentage Error (MAPE): {np.round(MAPE, 2)} %')\n",
    "\n",
    "rmse = np.sqrt(mean_squared_error(y_test_unscaled, y_pred))\n",
    "print('Test RMSE: %.3f' % rmse)\n",
    "# print(mean_absolute_percentage_error(y_test_unscaled, y_pred))"
   ]
  },
  {
   "cell_type": "code",
   "execution_count": 13,
   "id": "e0b0e0ee",
   "metadata": {},
   "outputs": [
    {
     "name": "stdout",
     "output_type": "stream",
     "text": [
      "1/1 [==============================] - 0s 25ms/step\n",
      "The last day price was : 16848.126\n",
      " \n",
      "The predicted price for the next day is: [[17165.652]]\n",
      "The actual price is: 17233.474\n"
     ]
    }
   ],
   "source": [
    "df_temp = data[-30:]\n",
    "\n",
    "last_N_days = df_temp[-30:].values\n",
    "\n",
    "Actual_price = 17233.474\n",
    "last_day_price= 16848.126\n",
    "# print(last_N_days)\n",
    "\n",
    "last_N_days_scaled = X_scaler.transform(last_N_days)\n",
    "\n",
    "X_test_new = []\n",
    "X_test_new.append(last_N_days_scaled)\n",
    "\n",
    "# Convert the X_test data set to a numpy array and reshape the data\n",
    "pred_price_scaled = model.predict(np.array(X_test_new))\n",
    "pred_price_unscaled = scaler_pred.inverse_transform(pred_price_scaled.reshape(-1, 1))\n",
    "\n",
    "print(\"The last day price was :\",last_day_price)\n",
    "print(' ')\n",
    "print(\"The predicted price for the next day is:\",pred_price_unscaled)\n",
    "print(\"The actual price is:\",Actual_price)\n",
    "\n",
    "\n",
    "# rmse = np.sqrt(mean_squared_error(Actual_price, pred_price_unscaled))\n",
    "# print('Test RMSE: %.3f' % rmse)\n"
   ]
  },
  {
   "cell_type": "code",
   "execution_count": 14,
   "id": "97b0fcef",
   "metadata": {},
   "outputs": [],
   "source": [
    "# last_New_data = new_data[-30:].values\n",
    "# # Actual_price = 22901.96\n",
    "# # print(last_N_da)\n",
    "\n",
    "# last_New_data_scaled = X_scaler.transform(last_New_data)\n",
    "\n",
    "# # Create an empty list and Append past N days\n",
    "# Xtest_N = []\n",
    "# Xtest_N.append(last_New_data_scaled)\n",
    "\n",
    "# # Convert the X_test data set to a numpy array and reshape the data\n",
    "# pred_scaled = model.predict(np.array(Xtest_N))\n",
    "# pred_unscaled = scaler_pred.inverse_transform(pred_scaled.reshape(-1, 1))\n",
    "# print(' ')\n",
    "# print(\"predicted price for the next day is :\", pred_unscaled)"
   ]
  },
  {
   "cell_type": "code",
   "execution_count": 15,
   "id": "fe7c625c",
   "metadata": {},
   "outputs": [],
   "source": [
    "# [[16899.016]]\n",
    "# df_temp1 = dataa[-60:-30]\n",
    "\n",
    "# df_temp1= df_temp1[['Close', 'High', 'Low', 'Open','Volume','n-transactions','MKTCP', 'HRATE','DIFF']]\n",
    "# last_N_day = df_temp1[-30:].values\n",
    "# # Actual_price = 22901.96\n",
    "# # print(last_N_day)\n",
    "\n",
    "# last_N_days_scale = X_scaler.transform(last_N_day)\n",
    "\n",
    "# # Create an empty list and Append past N days\n",
    "# Xtest_new = []\n",
    "# Xtest_new.append(last_N_days_scale)\n",
    "\n",
    "# # Convert the X_test data set to a numpy array and reshape the data\n",
    "# pred_price_scale = model.predict(np.array(Xtest_new))\n",
    "# pred_price_unscale = scaler_pred.inverse_transform(pred_price_scale.reshape(-1, 1))\n",
    "# print(pred_price_unscale)"
   ]
  },
  {
   "cell_type": "markdown",
   "id": "5b5d3613",
   "metadata": {},
   "source": []
  }
 ],
 "metadata": {
  "kernelspec": {
   "display_name": "Python 3 (ipykernel)",
   "language": "python",
   "name": "python3"
  },
  "language_info": {
   "codemirror_mode": {
    "name": "ipython",
    "version": 3
   },
   "file_extension": ".py",
   "mimetype": "text/x-python",
   "name": "python",
   "nbconvert_exporter": "python",
   "pygments_lexer": "ipython3",
   "version": "3.10.4"
  }
 },
 "nbformat": 4,
 "nbformat_minor": 5
}
