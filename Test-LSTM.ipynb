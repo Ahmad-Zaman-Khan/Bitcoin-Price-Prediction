{
 "cells": [
  {
   "cell_type": "code",
   "execution_count": 1,
   "id": "f8cfea66",
   "metadata": {},
   "outputs": [],
   "source": [
    "import warnings\n",
    "warnings.filterwarnings('ignore')\n",
    "import tensorflow as tf\n",
    "tf.random.set_seed(7)\n",
    "# np.random.seed(7)\n",
    "import datetime as dt\n",
    "from tensorflow.keras.callbacks import EarlyStopping\n",
    "from datetime import date\n",
    "from sklearn.metrics import mean_squared_error, mean_absolute_error\n",
    "from sklearn.preprocessing import MinMaxScaler,StandardScaler\n",
    "from sklearn.metrics import mean_absolute_error as mae\n",
    "import pandas as pd\n",
    "import numpy as np\n",
    "import matplotlib.pyplot as plt\n",
    "from sklearn.preprocessing import MinMaxScaler\n",
    "from tensorflow.keras.models import Sequential\n",
    "from tensorflow.keras.layers import LSTM, Dense"
   ]
  },
  {
   "cell_type": "code",
   "execution_count": 2,
   "id": "7579bfca",
   "metadata": {
    "scrolled": true
   },
   "outputs": [
    {
     "name": "stdout",
     "output_type": "stream",
     "text": [
      "<class 'pandas.core.frame.DataFrame'>\n",
      "RangeIndex: 2168 entries, 0 to 2167\n",
      "Data columns (total 11 columns):\n",
      " #   Column          Non-Null Count  Dtype  \n",
      "---  ------          --------------  -----  \n",
      " 0   Date            2168 non-null   object \n",
      " 1   Close           2168 non-null   float64\n",
      " 2   High            2168 non-null   float64\n",
      " 3   Low             2168 non-null   float64\n",
      " 4   Open            2168 non-null   float64\n",
      " 5   Volume          2168 non-null   float64\n",
      " 6   n-transactions  2168 non-null   int64  \n",
      " 7   MKTCP           2168 non-null   float64\n",
      " 8   HRATE           2168 non-null   float64\n",
      " 9   DIFF            2168 non-null   float64\n",
      " 10  AVBLS           2168 non-null   float64\n",
      "dtypes: float64(9), int64(1), object(1)\n",
      "memory usage: 186.4+ KB\n"
     ]
    }
   ],
   "source": [
    "btc_input_df = pd.read_csv(\"data/FBTC-USD-mar-2017-to-06-feb-2023.csv\")\n",
    "\n",
    "btc_input_df.info()"
   ]
  },
  {
   "cell_type": "code",
   "execution_count": 6,
   "id": "1eadaf7f-b5d9-419e-9ad9-5f4012a6ed54",
   "metadata": {},
   "outputs": [],
   "source": [
    "# Convert 'Date' to datetime and set as index (optional)\n",
    "btc_input_df['Date'] = pd.to_datetime(btc_input_df['Date'])\n",
    "btc_input_df.set_index('Date', inplace=True)"
   ]
  },
  {
   "cell_type": "code",
   "execution_count": 7,
   "id": "6b201145-25f7-424a-9d08-e4f3238fe836",
   "metadata": {},
   "outputs": [
    {
     "data": {
      "text/html": [
       "<div>\n",
       "<style scoped>\n",
       "    .dataframe tbody tr th:only-of-type {\n",
       "        vertical-align: middle;\n",
       "    }\n",
       "\n",
       "    .dataframe tbody tr th {\n",
       "        vertical-align: top;\n",
       "    }\n",
       "\n",
       "    .dataframe thead th {\n",
       "        text-align: right;\n",
       "    }\n",
       "</style>\n",
       "<table border=\"1\" class=\"dataframe\">\n",
       "  <thead>\n",
       "    <tr style=\"text-align: right;\">\n",
       "      <th></th>\n",
       "      <th>Close</th>\n",
       "      <th>High</th>\n",
       "      <th>Low</th>\n",
       "      <th>Open</th>\n",
       "      <th>Volume</th>\n",
       "      <th>n-transactions</th>\n",
       "      <th>MKTCP</th>\n",
       "      <th>HRATE</th>\n",
       "      <th>DIFF</th>\n",
       "      <th>AVBLS</th>\n",
       "    </tr>\n",
       "    <tr>\n",
       "      <th>Date</th>\n",
       "      <th></th>\n",
       "      <th></th>\n",
       "      <th></th>\n",
       "      <th></th>\n",
       "      <th></th>\n",
       "      <th></th>\n",
       "      <th></th>\n",
       "      <th></th>\n",
       "      <th></th>\n",
       "      <th></th>\n",
       "    </tr>\n",
       "  </thead>\n",
       "  <tbody>\n",
       "    <tr>\n",
       "      <th>2017-03-01</th>\n",
       "      <td>1222.500000</td>\n",
       "      <td>1222.500000</td>\n",
       "      <td>1179.689941</td>\n",
       "      <td>1180.040039</td>\n",
       "      <td>229056992.0</td>\n",
       "      <td>315883</td>\n",
       "      <td>1.989809e+10</td>\n",
       "      <td>3155225.442</td>\n",
       "      <td>4.410000e+11</td>\n",
       "      <td>0.979146</td>\n",
       "    </tr>\n",
       "    <tr>\n",
       "      <th>2017-03-02</th>\n",
       "      <td>1251.010010</td>\n",
       "      <td>1262.130005</td>\n",
       "      <td>1215.619995</td>\n",
       "      <td>1224.680054</td>\n",
       "      <td>368275008.0</td>\n",
       "      <td>329428</td>\n",
       "      <td>2.050876e+10</td>\n",
       "      <td>3440072.183</td>\n",
       "      <td>4.410000e+11</td>\n",
       "      <td>0.955612</td>\n",
       "    </tr>\n",
       "    <tr>\n",
       "      <th>2017-03-03</th>\n",
       "      <td>1274.989990</td>\n",
       "      <td>1280.310059</td>\n",
       "      <td>1250.709961</td>\n",
       "      <td>1250.709961</td>\n",
       "      <td>315739008.0</td>\n",
       "      <td>337310</td>\n",
       "      <td>2.089075e+10</td>\n",
       "      <td>3458650.323</td>\n",
       "      <td>4.460000e+11</td>\n",
       "      <td>0.985290</td>\n",
       "    </tr>\n",
       "    <tr>\n",
       "      <th>2017-03-04</th>\n",
       "      <td>1255.150024</td>\n",
       "      <td>1279.400024</td>\n",
       "      <td>1230.510010</td>\n",
       "      <td>1277.430054</td>\n",
       "      <td>183270000.0</td>\n",
       "      <td>268875</td>\n",
       "      <td>2.051548e+10</td>\n",
       "      <td>3069265.850</td>\n",
       "      <td>4.610000e+11</td>\n",
       "      <td>0.986085</td>\n",
       "    </tr>\n",
       "    <tr>\n",
       "      <th>2017-03-05</th>\n",
       "      <td>1267.119995</td>\n",
       "      <td>1267.290039</td>\n",
       "      <td>1238.060059</td>\n",
       "      <td>1254.290039</td>\n",
       "      <td>134127000.0</td>\n",
       "      <td>280739</td>\n",
       "      <td>2.062121e+10</td>\n",
       "      <td>3367030.447</td>\n",
       "      <td>4.610000e+11</td>\n",
       "      <td>0.983301</td>\n",
       "    </tr>\n",
       "  </tbody>\n",
       "</table>\n",
       "</div>"
      ],
      "text/plain": [
       "                  Close         High          Low         Open       Volume  \\\n",
       "Date                                                                          \n",
       "2017-03-01  1222.500000  1222.500000  1179.689941  1180.040039  229056992.0   \n",
       "2017-03-02  1251.010010  1262.130005  1215.619995  1224.680054  368275008.0   \n",
       "2017-03-03  1274.989990  1280.310059  1250.709961  1250.709961  315739008.0   \n",
       "2017-03-04  1255.150024  1279.400024  1230.510010  1277.430054  183270000.0   \n",
       "2017-03-05  1267.119995  1267.290039  1238.060059  1254.290039  134127000.0   \n",
       "\n",
       "            n-transactions         MKTCP        HRATE          DIFF     AVBLS  \n",
       "Date                                                                           \n",
       "2017-03-01          315883  1.989809e+10  3155225.442  4.410000e+11  0.979146  \n",
       "2017-03-02          329428  2.050876e+10  3440072.183  4.410000e+11  0.955612  \n",
       "2017-03-03          337310  2.089075e+10  3458650.323  4.460000e+11  0.985290  \n",
       "2017-03-04          268875  2.051548e+10  3069265.850  4.610000e+11  0.986085  \n",
       "2017-03-05          280739  2.062121e+10  3367030.447  4.610000e+11  0.983301  "
      ]
     },
     "execution_count": 7,
     "metadata": {},
     "output_type": "execute_result"
    }
   ],
   "source": [
    "btc_input_df.head()"
   ]
  },
  {
   "cell_type": "code",
   "execution_count": 8,
   "id": "1fb336d0",
   "metadata": {},
   "outputs": [],
   "source": [
    "# Select features\n",
    "features = ['Close', 'High', 'Low', 'Open', 'Volume', 'n-transactions', 'MKTCP', 'HRATE', 'DIFF', 'AVBLS']\n",
    "data = btc_input_df[features]"
   ]
  },
  {
   "cell_type": "code",
   "execution_count": 9,
   "id": "c994da6e",
   "metadata": {},
   "outputs": [],
   "source": [
    "# Handle missing values if any\n",
    "data = data.dropna()"
   ]
  },
  {
   "cell_type": "code",
   "execution_count": 8,
   "id": "56602cab",
   "metadata": {},
   "outputs": [
    {
     "data": {
      "text/plain": [
       "<matplotlib.legend.Legend at 0x26b220c19a0>"
      ]
     },
     "execution_count": 8,
     "metadata": {},
     "output_type": "execute_result"
    },
    {
     "data": {
      "image/png": "[encoded data removed]",
      "text/plain": [
       "<Figure size 1300x700 with 1 Axes>"
      ]
     },
     "metadata": {},
     "output_type": "display_data"
    }
   ],
   "source": [
    "# btc_input_df_datetype.shape\n",
    "closing_price = data['Close']\n",
    "fig, ax = plt.subplots(1, figsize=(13, 7))\n",
    "ax.plot(closing_price, label=' Price USD', linewidth=2)\n",
    "# ax.plot(df_test, label='Test', linewidth=2)\n",
    "ax.set_ylabel('Price USD', fontsize=10)\n",
    "ax.set_title('', fontsize=12)\n",
    "ax.legend(loc='best', fontsize=12)"
   ]
  },
  {
   "cell_type": "code",
   "execution_count": null,
   "id": "3c978255-77f5-4105-b18e-7e4cda3cf509",
   "metadata": {},
   "outputs": [],
   "source": [
    "# Scale the features\n",
    "scaler = MinMaxScaler(feature_range=(0, 1))\n",
    "scaled_data = scaler.fit_transform(data)"
   ]
  },
  {
   "cell_type": "code",
   "execution_count": null,
   "id": "6d13ce1b",
   "metadata": {},
   "outputs": [],
   "source": [
    "def create_dataset(data, time_step=60):\n",
    "    X, y = [], []\n",
    "    for i in range(len(data) - time_step - 1):\n",
    "        X.append(data[i:(i + time_step), :])\n",
    "        y.append(data[i + time_step, 0])  # 'Close' is the target variable\n",
    "    return np.array(X), np.array(y)\n",
    "\n",
    "time_step = 60\n",
    "X, y = create_dataset(scaled_data, time_step)\n",
    "\n",
    "# Reshape for LSTM [samples, time steps, features]\n",
    "X = X.reshape((X.shape[0], X.shape[1], X.shape[2]))\n",
    "\n",
    "# Split into training and testing sets\n",
    "split = int(len(X) * 0.8)\n",
    "X_train, X_test = X[:split], X[split:]\n",
    "y_train, y_test = y[:split], y[split:]\n",
    "\n",
    "print(\"trainX: \", X_train.shape)\n",
    "print(\"trainY: \", y_train.shape)\n",
    "print(\"testX: \", X_test.shape)\n",
    "print(\"testY\", y_test.shape)"
   ]
  },
  {
   "cell_type": "code",
   "execution_count": null,
   "id": "168e9a76",
   "metadata": {},
   "outputs": [],
   "source": [
    "# Build the LSTM model\n",
    "model = Sequential()\n",
    "model.add(LSTM(units=50, return_sequences=True, input_shape=(X_train.shape[1], X_train.shape[2])))\n",
    "model.add(LSTM(units=50, return_sequences=False))\n",
    "model.add(Dense(units=25))\n",
    "#Output Layer\n",
    "model.add(Dense(units=1))"
   ]
  },
  {
   "cell_type": "code",
   "execution_count": null,
   "id": "03844074",
   "metadata": {},
   "outputs": [],
   "source": [
    "\n",
    "model.compile(optimizer='adam', loss='mean_squared_error')"
   ]
  },
  {
   "cell_type": "code",
   "execution_count": null,
   "id": "fcbad30f",
   "metadata": {},
   "outputs": [],
   "source": [
    "# Train the model\n",
    "history = model.fit(X_train, y_train, epochs=50, batch_size=32, validation_split=0.2)"
   ]
  },
  {
   "cell_type": "code",
   "execution_count": null,
   "id": "2395109d",
   "metadata": {},
   "outputs": [],
   "source": [
    "# Predicting the prices\n",
    "predictions = model.predict(X_test)\n",
    "predictions = scaler.inverse_transform(np.concatenate((predictions, np.zeros((predictions.shape[0], scaled_data.shape[1] - 1))), axis=1))[:, 0]\n",
    "\n",
    "# Inverse transform y_test\n",
    "y_test = scaler.inverse_transform(np.concatenate((y_test.reshape(-1, 1), np.zeros((y_test.shape[0], scaled_data.shape[1] - 1))), axis=1))[:, 0]\n"
   ]
  },
  {
   "cell_type": "code",
   "execution_count": null,
   "id": "ff0e65ca",
   "metadata": {},
   "outputs": [],
   "source": [
    "# Plotting the results\n",
    "plt.figure(figsize=(14, 5))\n",
    "plt.plot(btc_input_df.index[-len(y_test):], y_test, color='blue', label='Actual Prices')\n",
    "plt.plot(btc_input_df.index[-len(y_test):], predictions, color='red', label='Predicted Prices')\n",
    "plt.xlabel('Date')\n",
    "plt.ylabel('Price')\n",
    "plt.title('Bitcoin Price Prediction')\n",
    "plt.legend()\n",
    "plt.show()"
   ]
  },
  {
   "cell_type": "code",
   "execution_count": null,
   "id": "e0b0e0ee",
   "metadata": {},
   "outputs": [],
   "source": [
    "#Please Note that play around with Hyper-Parameters for better results and good insights.."
   ]
  }
 ],
 "metadata": {
  "kernelspec": {
   "display_name": "Python (myenv)",
   "language": "python",
   "name": "myenv"
  },
  "language_info": {
   "codemirror_mode": {
    "name": "ipython",
    "version": 3
   },
   "file_extension": ".py",
   "mimetype": "text/x-python",
   "name": "python",
   "nbconvert_exporter": "python",
   "pygments_lexer": "ipython3",
   "version": "3.12.4"
  }
 },
 "nbformat": 4,
 "nbformat_minor": 5
}
